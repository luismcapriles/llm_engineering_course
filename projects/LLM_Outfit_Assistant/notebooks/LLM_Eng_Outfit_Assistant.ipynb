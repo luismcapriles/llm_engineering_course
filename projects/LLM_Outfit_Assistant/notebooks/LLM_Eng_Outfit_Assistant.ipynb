{
 "cells": [
  {
   "cell_type": "markdown",
   "id": "64023755-3eee-4a9f-aa37-30f943c7124d",
   "metadata": {},
   "source": [
    "# Project - Outfit Assistant"
   ]
  },
  {
   "cell_type": "code",
   "execution_count": null,
   "id": "456b1599-5bd5-4fcf-929a-37d449cf1cad",
   "metadata": {},
   "outputs": [],
   "source": [
    "# imports\n",
    "\n",
    "import os\n",
    "import requests\n",
    "import json\n",
    "from typing import List\n",
    "from dotenv import load_dotenv\n",
    "from bs4 import BeautifulSoup\n",
    "from IPython.display import Markdown, display, update_display\n",
    "from openai import OpenAI\n",
    "import gradio as gr\n",
    "import base64\n",
    "from io import BytesIO\n",
    "from PIL import Image"
   ]
  },
  {
   "cell_type": "markdown",
   "id": "c5d455fa-dd40-4dc9-8352-cc0f28a5ab23",
   "metadata": {},
   "source": [
    "### API\n",
    "You will need an OpenAi API key or feel free to use any open source model\n",
    "\n",
    "You will need an weather API key. In my case I used https://openweathermap.org/\n",
    "\n",
    "Update your .env file with your openweathermap API key"
   ]
  },
  {
   "cell_type": "code",
   "execution_count": null,
   "id": "646ccf5e-0f5e-4467-b298-7a2d57597398",
   "metadata": {},
   "outputs": [],
   "source": [
    "# Initialization\n",
    "load_dotenv()\n",
    "\n",
    "openai_api_key = os.getenv('OPENAI_API_KEY')\n",
    "weather_api_key = os.getenv('WEATHER_API_KEY')\n",
    "\n",
    "if openai_api_key:\n",
    "    print(f\"OpenAI API Key exists and begins {openai_api_key[:8]}\")\n",
    "else:\n",
    "    print(\"Weather API Key not set\")\n",
    "    \n",
    "if weather_api_key:\n",
    "    print(f\"Weather API Key exists and begins {weather_api_key[:4]}\")\n",
    "else:\n",
    "    print(\"Weather API Key not set\")\n",
    "    \n",
    "MODEL = \"gpt-4o-mini\"\n",
    "openai = OpenAI()"
   ]
  },
  {
   "cell_type": "code",
   "execution_count": null,
   "id": "88474000-4cb4-407f-985f-1ecac835203f",
   "metadata": {},
   "outputs": [],
   "source": [
    "system_message = \"You are a helpful outfit assistant that provides real-time weather information\"\n",
    "system_message += \"Give short, courteous answers, no more than 2 sentence. \"\n",
    "system_message += \"Always be accurate. If you don't know the real-time weather information, say so.\"\n"
   ]
  },
  {
   "cell_type": "markdown",
   "id": "2a4fb265-e0c2-41ae-ad02-962932e8a878",
   "metadata": {},
   "source": [
    "### Tool for weather information\n"
   ]
  },
  {
   "cell_type": "code",
   "execution_count": null,
   "id": "0c6b1ee0-ca38-4dc8-9a5c-9c7763ed781f",
   "metadata": {},
   "outputs": [],
   "source": [
    "# Let's start by making a useful function\n",
    "\n",
    "def get_forecast(city):\n",
    "    \"\"\"\n",
    "    Fetches the current weather forecast for the given city in both Celsius and Fahrenheit.\n",
    "\n",
    "    Args:\n",
    "        city (str): Name of the city to get the forecast for.\n",
    "\n",
    "    Returns:\n",
    "        string containing the temperature in Celsius and Fahrenheit.\n",
    "    \"\"\"\n",
    "    print(f'Tool get_forecast called for {city}')\n",
    "    \n",
    "    # Replace 'your_api_key' with your actual OpenWeatherMap API key\n",
    "    api_key = weather_api_key\n",
    "    url = f\"https://api.openweathermap.org/data/2.5/weather?q={city}&appid={api_key}&units=metric\"\n",
    "\n",
    "    try:\n",
    "        response = requests.get(url)\n",
    "        response.raise_for_status()  # Raise an HTTPError for bad responses\n",
    "        data = response.json()\n",
    "\n",
    "        # Extract temperature in Celsius\n",
    "        temp_celsius = data['main']['temp']\n",
    "\n",
    "        # Convert temperature to Fahrenheit\n",
    "        temp_fahrenheit = (temp_celsius * 9/5) + 32\n",
    "\n",
    "        return f\"The temperature in {city} is {round(temp_celsius, 2)}°C ({round(temp_fahrenheit, 2)}°F).\"\n",
    "\n",
    "    except requests.exceptions.HTTPError as e:\n",
    "        if e.response.status_code == 404:\n",
    "            return f\"Unknown location: '{city}'. Please check the location name and try again.\"\n",
    "    \n",
    "    except requests.exceptions.RequestException:\n",
    "        return f\"Unable to retrieve weather for '{city}'. Please check the location name.\"\n",
    "    \n",
    "    except KeyError:\n",
    "        return f\"Unable to retrieve weather details for '{city}'. Please verify the location.\""
   ]
  },
  {
   "cell_type": "code",
   "execution_count": null,
   "id": "39a8dfb0-8b48-466b-a71d-ac38a6faa6d8",
   "metadata": {},
   "outputs": [],
   "source": [
    "get_forecast(\"Bogota\")"
   ]
  },
  {
   "cell_type": "code",
   "execution_count": null,
   "id": "428d0217-b6c0-4980-a26c-73eb6bd2f071",
   "metadata": {},
   "outputs": [],
   "source": [
    "# There's a particular dictionary structure that's required to describe our function:\n",
    "\n",
    "forecast_function = {\n",
    "    \"name\": \"get_forecast\",\n",
    "    \"description\": \"Call this whenever you need to know real-time weather of a City, for example when user asks 'How is the weather today','What should I wear today', 'Help me with my outfit'\",\n",
    "    \"parameters\": {\n",
    "        \"type\": \"object\",\n",
    "        \"properties\": {\n",
    "            \"forecast_city\": {\n",
    "                \"type\": \"string\",\n",
    "                \"description\": \"The current forecast of the City that users want to check\",\n",
    "            },\n",
    "        },\n",
    "        \"required\": [\"forecast_city\"],\n",
    "        \"additionalProperties\": False\n",
    "    }\n",
    "}"
   ]
  },
  {
   "cell_type": "code",
   "execution_count": null,
   "id": "50f3a389-bb38-4f31-b046-2490e0e1482f",
   "metadata": {},
   "outputs": [],
   "source": [
    "tools = [{\"type\": \"function\", \"function\": forecast_function}]"
   ]
  },
  {
   "cell_type": "code",
   "execution_count": null,
   "id": "5c994ef9-5fa3-4b5d-ae09-2a46b83a16e6",
   "metadata": {},
   "outputs": [],
   "source": [
    "system_message += \"If you have the real-time weather information, provide the information to the user, then ask if they would like an outfit recommendation\"\n",
    "system_message += \"If user say yes for an outfit recomendation, kindly ask for they gender, age and if there is a color preference to tailor the outfit sugestion\"\n",
    "system_message += \"If user provides color preference, provide color suggestion of each item based on matchin color pallete and include a short rephrased version of user profile gender, age, color preference.\"\n",
    "system_message += \"Always be accurate. Always consider the ideal outdoor temperature range for human confort and minimal physiological stress is generally between 20-22°C (68-72°F)\"\n",
    "system_message += \"For example:'User: what is the weather today?, Assistant: Could you please confirm your City?, User: I am in Chicago, Assitant:It's currently -3.2°C (26.2°F) in Chicago. Would you like a outfit recommendation? ,User: Yes please, Assitant:Could you please confirm your gender, age, and color preferences?, User: I am a women 36 years old and I like dark green color, Assistant:It's currently -3.2°C (26.2°F) in Chicago, so I recommend dressing warmly in layers. For a 36-year-old woman, that love dark green, I recommend  a warm dark green coat pair it with earthy tones like beige or tan for pants, a white or cream shirt, and brown shoes. For accessories, gold or brass tones would complement\"\n"
   ]
  },
  {
   "cell_type": "markdown",
   "id": "055e0472-b9e4-4ad2-9243-c125c67dcaca",
   "metadata": {},
   "source": [
    "### Testing Weather tool"
   ]
  },
  {
   "cell_type": "code",
   "execution_count": null,
   "id": "ef9f7ea4-c93a-43cd-8b94-ae2ec59bd5f6",
   "metadata": {},
   "outputs": [],
   "source": [
    "def chat(message, history):\n",
    "    messages = [{\"role\": \"system\", \"content\": system_message}] + history + [{\"role\": \"user\", \"content\": message}]\n",
    "    response = openai.chat.completions.create(model=MODEL, messages=messages, tools=tools)\n",
    "\n",
    "    # If a tool call is needed, handle it and get a new response\n",
    "    if response.choices[0].finish_reason==\"tool_calls\":\n",
    "        \n",
    "        tool_message = response.choices[0].message\n",
    "        tool_response = handle_tool_call(tool_message)\n",
    "        \n",
    "        # Add tool call and its response to messages\n",
    "        messages.append(tool_message)\n",
    "        messages.append(tool_response)\n",
    "        \n",
    "        # Get final response after tool call\n",
    "        response = openai.chat.completions.create(model=MODEL, messages=messages)\n",
    "    \n",
    "    return response.choices[0].message.content"
   ]
  },
  {
   "cell_type": "code",
   "execution_count": null,
   "id": "70b47d46-ba8a-4b96-beab-9e33c538819f",
   "metadata": {},
   "outputs": [],
   "source": [
    "# We have to write that function handle_tool_call:\n",
    "\n",
    "def handle_tool_call(message):\n",
    "    tool_call = message.tool_calls[0]\n",
    "    arguments = json.loads(tool_call.function.arguments)\n",
    "    city = arguments.get('forecast_city')\n",
    "    forecast = get_forecast(city)\n",
    "    response = {\n",
    "        \"role\": \"tool\",\n",
    "        \"content\": json.dumps({\"forecast_city\": city,\"forecast\": forecast}),\n",
    "        \"tool_call_id\": message.tool_calls[0].id\n",
    "    }\n",
    "    return response"
   ]
  },
  {
   "cell_type": "code",
   "execution_count": null,
   "id": "ee7a06f5-8aee-4754-938e-29c6d15c977d",
   "metadata": {},
   "outputs": [],
   "source": [
    "gr.ChatInterface(fn=chat, type=\"messages\").launch()"
   ]
  },
  {
   "cell_type": "markdown",
   "id": "c3e9a1da-76b9-486a-98ac-35257c33f1ad",
   "metadata": {},
   "source": [
    "# Let's go multi-modal!!\n",
    "\n",
    "We can use DALL-E-3, the image generation model behind GPT-4o, to make us some images\n",
    "\n",
    "Let's put this in a function called artist.\n",
    "\n",
    "### Price alert: each time it generates an image, it costs about $0.4 - don't go crazy with images!"
   ]
  },
  {
   "cell_type": "code",
   "execution_count": null,
   "id": "babda7a8-c8c9-4aaf-a3fb-012e6930ca6b",
   "metadata": {},
   "outputs": [],
   "source": [
    "def artist(outfit_goal):\n",
    "    image_response = openai.images.generate(\n",
    "            model=\"dall-e-3\",\n",
    "            prompt=f\"A colorful fashion outfit illustration. Adjust the User: gender, age, and color scheme for the clothing and accessories as described: {outfit_goal}, do not add weather nor city information in the image. Fashion sketch style.\",\n",
    "            size=\"1024x1024\",\n",
    "            n=1,\n",
    "            response_format=\"b64_json\",\n",
    "        )\n",
    "    image_base64 = image_response.data[0].b64_json\n",
    "    image_data = base64.b64decode(image_base64)\n",
    "    return Image.open(BytesIO(image_data))"
   ]
  },
  {
   "cell_type": "code",
   "execution_count": null,
   "id": "d9f86efc-6e83-4bfa-af41-10502be434eb",
   "metadata": {},
   "outputs": [],
   "source": [
    "system_message += \"Only after final outfit recommendation, You could ask the user if they would like an image of the final outfit\"\n",
    "system_message += \"If user responds they do not want an image, do nothing.\"\n",
    "system_message += \"If user responds they want an image of the recommended outfit, check if you have the tools to create images. Always be accurate. If you don't have the tool, say so.\"\n"
   ]
  },
  {
   "cell_type": "markdown",
   "id": "25b9ed85-0077-4961-a329-0038fdc96e81",
   "metadata": {},
   "source": [
    "# Our Agent Framework\n",
    "\n",
    "1. Breaking a complex problem into smaller steps, with multiple LLMs carrying out specialized tasks\n",
    "2. The ability for LLMs to use Tools to give them additional capabilities\n"
   ]
  },
  {
   "cell_type": "markdown",
   "id": "11040248-65b6-44fe-8b4f-49778f33d643",
   "metadata": {},
   "source": [
    "### Testing Tool calling Artist agent"
   ]
  },
  {
   "cell_type": "code",
   "execution_count": null,
   "id": "78c979c7-a4d1-47ac-8378-6043734fc101",
   "metadata": {},
   "outputs": [],
   "source": [
    "## New Tool that manages an agent"
   ]
  },
  {
   "cell_type": "code",
   "execution_count": null,
   "id": "b81396d6-440d-4c89-9474-d3804c952357",
   "metadata": {},
   "outputs": [],
   "source": [
    "def get_image(outfit_goal):\n",
    "    image = artist(outfit_goal)\n",
    "    return image\n",
    "    "
   ]
  },
  {
   "cell_type": "code",
   "execution_count": null,
   "id": "5fc7b5d1-bbfc-4eff-91f2-bfc7ff73cf9d",
   "metadata": {},
   "outputs": [],
   "source": [
    "image_function = {\n",
    "    \"name\": \"get_image\",\n",
    "    \"description\": \"Call this whenever you need to create image of users outfit recommendation, for example when Assistant: Would you like an image of the final outfit?, User: Yes please\",\n",
    "    \"parameters\": {\n",
    "        \"type\": \"object\",\n",
    "        \"properties\": {\n",
    "            \"outfit_description\": {\n",
    "                \"type\": \"string\",\n",
    "                \"description\": \"The outfit suggested by the assistant that will be passed to the agent Artist\",\n",
    "            },\n",
    "        },\n",
    "        \"required\": [\"outfit_description\"],\n",
    "        \"additionalProperties\": False\n",
    "    }\n",
    "}"
   ]
  },
  {
   "cell_type": "code",
   "execution_count": null,
   "id": "98af4aba-2fdb-4c9b-a9ae-5124160e23d9",
   "metadata": {},
   "outputs": [],
   "source": [
    "tools = [{\"type\":\"function\",\"function\":image_function}]"
   ]
  },
  {
   "cell_type": "code",
   "execution_count": null,
   "id": "e772bc50-2c37-4369-b3b2-fe47e495d3af",
   "metadata": {},
   "outputs": [],
   "source": [
    "def chat(history):\n",
    "    messages = [{\"role\": \"system\", \"content\": system_message}] + history\n",
    "    response = openai.chat.completions.create(model=MODEL, messages=messages, tools=tools)\n",
    "    image = None\n",
    "    \n",
    "    if response.choices[0].finish_reason==\"tool_calls\":\n",
    "\n",
    "        \n",
    "        \n",
    "         # If a tool call is needed, handle it and get a new response\n",
    "        tool_message = response.choices[0].message\n",
    "        #tool_response, city = handle_tool_call(tool_message)\n",
    "        tool_result = handle_tool_call(tool_message)\n",
    "\n",
    "        if tool_result:\n",
    "            image , tool_response = tool_result\n",
    "\n",
    "            # Add tool call and its response to messages\n",
    "            messages.append(tool_message)\n",
    "            messages.append(tool_response)\n",
    "\n",
    "            # Get final response after tool call\n",
    "            response = openai.chat.completions.create(model=MODEL, messages=messages)\n",
    "     \n",
    "    reply = response.choices[0].message.content\n",
    "    history += [{\"role\":\"assistant\", \"content\":reply}]\n",
    "\n",
    "    \n",
    "    return history, image"
   ]
  },
  {
   "cell_type": "code",
   "execution_count": null,
   "id": "102459ba-04eb-4acc-b0fc-0ca62b99818a",
   "metadata": {},
   "outputs": [],
   "source": [
    "# We have to write that function handle_tool_call:\n",
    "\n",
    "def handle_tool_call(message):\n",
    "\n",
    "    if not message.tool_calls:\n",
    "        return None\n",
    "    \n",
    "    tool_call = message.tool_calls[0]\n",
    "    \n",
    "    #parse arguments safetly\n",
    "\n",
    "    try:\n",
    "        arguments = json.loads(tool_call.function.arguments)\n",
    "        outfit_description = arguments.get('outfit_description')\n",
    "\n",
    "        #validate outfit description\n",
    "        if not outfit_description:\n",
    "            return None\n",
    "        #generate image\n",
    "        image = get_image(outfit_description)\n",
    "\n",
    "        tool_response ={\n",
    "            \"role\": \"tool\",\n",
    "            \"content\": json.dumps({\"image_generated\": \"success\"}),\n",
    "            \"tool_call_id\": tool_call.id\n",
    "        }\n",
    "\n",
    "        return image, tool_response\n",
    "\n",
    "    except (json.JSONDecodeError, KeyError) as e:\n",
    "        print(f\"Error processing tool call: {e}\")\n",
    "        return None\n",
    "\n",
    " \n",
    "    "
   ]
  },
  {
   "cell_type": "code",
   "execution_count": null,
   "id": "ec31a4d1-ee88-4c2d-9cb0-ca65793c58ce",
   "metadata": {},
   "outputs": [],
   "source": [
    "# More involved Gradio:\n",
    "\n",
    "with gr.Blocks() as ui:\n",
    "    with gr.Row():\n",
    "        chatbot = gr.Chatbot(height=500, type=\"messages\")\n",
    "        image_output = gr.Image(height=500)\n",
    "    with gr.Row():\n",
    "        entry = gr.Textbox(label=\"Chat with our AI Assistant:\")\n",
    "    with gr.Row():\n",
    "        clear = gr.Button(\"Clear\")\n",
    "\n",
    "    def do_entry(message, history):\n",
    "        history += [{\"role\":\"user\", \"content\":message}]\n",
    "        return \"\", history\n",
    "\n",
    "    entry.submit(do_entry, inputs=[entry, chatbot], outputs=[entry, chatbot]).then(\n",
    "        chat, inputs=chatbot, outputs=[chatbot, image_output]\n",
    "    )\n",
    "    clear.click(lambda: None, inputs=None, outputs=chatbot, queue=False)\n",
    "\n",
    "ui.launch()"
   ]
  },
  {
   "cell_type": "markdown",
   "id": "684100d5-4458-4f42-9d93-93c34097e312",
   "metadata": {},
   "source": [
    "### Moment of Truth: Putting It All Together\n",
    "\n",
    "A model that is able to handle a multi-tool + image generator agent.  \n",
    "\n",
    "The new `chat()` and `handle_tool_call()` versions can handle both text and image responses.  \n",
    "\n",
    "The model will hold the image generation until the user confirms they want the image of the recommended outfit.  "
   ]
  },
  {
   "cell_type": "code",
   "execution_count": null,
   "id": "49227c86-0f60-46fd-98f8-959c99939b83",
   "metadata": {},
   "outputs": [],
   "source": [
    "tools = [{\"type\": \"function\", \"function\": forecast_function},{\"type\":\"function\",\"function\":image_function}]"
   ]
  },
  {
   "cell_type": "code",
   "execution_count": null,
   "id": "abad1d69-bbfd-47f5-a138-1716738abc21",
   "metadata": {},
   "outputs": [],
   "source": [
    "def handle_tool_call(message):\n",
    "    if not message.tool_calls:\n",
    "        return None\n",
    "\n",
    "    tool_call = message.tool_calls[0]\n",
    "    try:\n",
    "        arguments = json.loads(tool_call.function.arguments)            \n",
    "        tool_name = tool_call.function.name\n",
    "\n",
    "        if tool_name == \"get_forecast\":\n",
    "            city = arguments.get('forecast_city')\n",
    "            forecast = get_forecast(city)\n",
    "            tool_response = {\n",
    "                \"role\": \"tool\",\n",
    "                \"content\": json.dumps({\n",
    "                    \"forecast_city\": city,\n",
    "                    \"forecast\": forecast\n",
    "                }),\n",
    "                \"tool_call_id\": tool_call.id\n",
    "            }\n",
    "            # as it only handle forecast returns None as image avoiding errors\n",
    "            return None, tool_response\n",
    "\n",
    "        elif tool_name == \"get_image\":\n",
    "            outfit_description = arguments.get('outfit_description')\n",
    "            image = get_image(outfit_description)\n",
    "            tool_response = {\n",
    "                \"role\": \"tool\",\n",
    "                \"content\": json.dumps({\"image_generated\": \"success\"}),\n",
    "                \"tool_call_id\": tool_call.id\n",
    "            }\n",
    "            #return the image and success as a response\n",
    "            return image, tool_response\n",
    "\n",
    "    except (json.JSONDecodeError, KeyError) as e:\n",
    "        print(f\"Error processing tool call: {e}\")\n",
    "        return None\n",
    "\n",
    "def chat(history):\n",
    "    messages = [{\"role\": \"system\", \"content\": system_message}] + history\n",
    "    response = openai.chat.completions.create(model=MODEL, messages=messages, tools=tools)\n",
    "    image = None\n",
    "    \n",
    "    if response.choices[0].finish_reason == \"tool_calls\":\n",
    "        tool_message = response.choices[0].message\n",
    "        tool_result = handle_tool_call(tool_message)\n",
    "\n",
    "        if tool_result:\n",
    "            image, tool_response = tool_result\n",
    "          \n",
    "            messages.append({\"role\": \"assistant\", \"content\": tool_message.content or \"\",  #includes information about what tool was called and why. And prevents null context error\n",
    "                             \"tool_calls\": tool_message.tool_calls})                      #preserves tool context (helping the model understand what actions were previosly called)\n",
    "        \n",
    "            messages.append(tool_response) #Adds the tool's response to the conversation # For weather: contains the forecast  # For image: contains confirmation of image generation\n",
    "            response = openai.chat.completions.create(model=MODEL, messages=messages, tools=tools)\n",
    "    \n",
    "    reply = response.choices[0].message.content\n",
    "    history += [{\"role\": \"assistant\", \"content\": reply}]\n",
    "    \n",
    "    return history, image"
   ]
  },
  {
   "cell_type": "code",
   "execution_count": null,
   "id": "392137ce-4d6f-4e87-be8a-41a0c7e33124",
   "metadata": {},
   "outputs": [],
   "source": [
    "# More involved Gradio:\n",
    "\n",
    "with gr.Blocks() as ui:\n",
    "    with gr.Row():\n",
    "        chatbot = gr.Chatbot(height=500, type=\"messages\")\n",
    "        image_output = gr.Image(height=500)\n",
    "    with gr.Row():\n",
    "        entry = gr.Textbox(label=\"Chat with our AI Assistant:\")\n",
    "    with gr.Row():\n",
    "        clear = gr.Button(\"Clear\")\n",
    "\n",
    "    def do_entry(message, history):\n",
    "        history += [{\"role\":\"user\", \"content\":message}]\n",
    "        return \"\", history\n",
    "\n",
    "    entry.submit(do_entry, inputs=[entry, chatbot], outputs=[entry, chatbot]).then(\n",
    "        chat, inputs=chatbot, outputs=[chatbot, image_output]\n",
    "    )\n",
    "    clear.click(lambda: None, inputs=None, outputs=chatbot, queue=False)\n",
    "\n",
    "ui.launch(inbrowser=True)"
   ]
  },
  {
   "cell_type": "code",
   "execution_count": null,
   "id": "3a5dd73b-40d3-4e12-bd75-ba6141762b39",
   "metadata": {},
   "outputs": [],
   "source": []
  }
 ],
 "metadata": {
  "kernelspec": {
   "display_name": "Python 3 (ipykernel)",
   "language": "python",
   "name": "python3"
  },
  "language_info": {
   "codemirror_mode": {
    "name": "ipython",
    "version": 3
   },
   "file_extension": ".py",
   "mimetype": "text/x-python",
   "name": "python",
   "nbconvert_exporter": "python",
   "pygments_lexer": "ipython3",
   "version": "3.11.11"
  }
 },
 "nbformat": 4,
 "nbformat_minor": 5
}
