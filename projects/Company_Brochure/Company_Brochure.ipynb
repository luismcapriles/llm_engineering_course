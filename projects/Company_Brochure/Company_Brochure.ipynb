{
 "cells": [
  {
   "cell_type": "markdown",
   "id": "3674f475-e1dc-4d49-9cac-b7b7be3f2487",
   "metadata": {},
   "source": [
    "### Business brochure\n",
    "-First to get a website \n",
    "\n",
    "-Use LLM to Scrap main links from the website\n",
    "\n",
    "-Use an LLM to -exclude certain info -summarize main info - respond in markdown\n"
   ]
  },
  {
   "cell_type": "code",
   "execution_count": 2,
   "id": "fd0f8064-b98a-4f2c-91b0-494e5d7f1e6f",
   "metadata": {},
   "outputs": [],
   "source": [
    "import os\n",
    "import requests #The `requests.get()` method is used to make HTTP GET requests to a specified URL.\n",
    "import json\n",
    "from typing import List\n",
    "from dotenv import load_dotenv\n",
    "from bs4 import BeautifulSoup #Beautiful Soup is a library that makes it easy to scrape information from web page\n",
    "from IPython.display import Markdown, display, update_display\n",
    "from openai import OpenAI\n"
   ]
  },
  {
   "cell_type": "code",
   "execution_count": 3,
   "id": "8734d232-8f66-4be2-a83c-c3df36b2e978",
   "metadata": {},
   "outputs": [],
   "source": [
    "load_dotenv()\n",
    "api_key = os.getenv('OPENAI_API_KEY')\n",
    "\n",
    "MODEL = \"gpt-4o-mini\"\n",
    "openai = OpenAI()"
   ]
  },
  {
   "cell_type": "code",
   "execution_count": 26,
   "id": "eb23ed0d-afaa-44a1-8497-b235487efb6d",
   "metadata": {},
   "outputs": [],
   "source": [
    "# A class to represent a Webpage\n",
    "#Website scraped, only text, image removed \n",
    "# Some websites need you to use proper headers when fetching them:\n",
    "headers = {\n",
    " \"User-Agent\": \"Mozilla/5.0 (Windows NT 10.0; Win64; x64) AppleWebKit/537.36 (KHTML, like Gecko) Chrome/117.0.0.0 Safari/537.36\"\n",
    "}\n",
    "\n",
    "class Website:\n",
    "    \"\"\"\n",
    "    A utility class to represent a Website that we have scraped, now with links\n",
    "    \"\"\"\n",
    "\n",
    "    def __init__(self, url):\n",
    "        self.url = url\n",
    "        response = requests.get(url, headers=headers)\n",
    "        self.body = response.content\n",
    "        soup = BeautifulSoup(self.body, 'html.parser')\n",
    "        self.title = soup.title.string if soup.title else \"No title found\"\n",
    "        if soup.body:\n",
    "            for irrelevant in soup.body([\"script\", \"style\", \"img\", \"input\"]):\n",
    "                irrelevant.decompose()\n",
    "            self.text = soup.body.get_text(separator=\"\\n\", strip=True)\n",
    "        else:\n",
    "            self.text = \"\"\n",
    "        links = [link.get('href') for link in soup.find_all('a')]\n",
    "        self.links = [link for link in links if link]\n",
    "\n",
    "    def get_contents(self):\n",
    "        return f\"Webpage Title:\\n{self.title}\\nWebpage Contents:\\n{self.text}\\n\\n\""
   ]
  },
  {
   "cell_type": "markdown",
   "id": "e5c8b495-6c11-4d59-94ab-921adec2a574",
   "metadata": {},
   "source": [
    "#Using self.body = response.content\n",
    "\n",
    "here makes sense because it's being passed to BeautifulSoup, which can handle both bytes and strings, and some HTML pages might have different encodings that BeautifulSoup can better detect from the raw content.\n",
    "A quick decision flowchart:\n",
    "Working with APIs that return JSON? → Use response.json()\n",
    "Downloading files or binary data? → Use response.content\n",
    "Working with text/HTML content? → Use response.text"
   ]
  },
  {
   "cell_type": "markdown",
   "id": "22fec017-dc3a-434a-ae91-f456abe8bf69",
   "metadata": {},
   "source": [
    "## First step: Have GPT-4o-mini figure out which links are relevant\n",
    "\n",
    "### Use a call to gpt-4o-mini to read the links on a webpage, and respond in structured JSON.  \n",
    "It should decide which links are relevant, and replace relative links such as \"/about\" with \"https://company.com/about\".  \n",
    "We will use \"Multi-shot prompting\" in which we provide different examples of how it should respond in the prompt.\n",
    "\n",
    "This is an excellent use case for an LLM, because it requires nuanced understanding. Imagine trying to code this without LLMs by parsing and analyzing the webpage - it would be very hard!\n",
    "\n",
    "Sidenote: there is a more advanced technique called \"Structured Outputs\" in which we require the model to respond according to a spec. We cover this technique in Week 8 during our autonomous Agentic AI project."
   ]
  },
  {
   "cell_type": "code",
   "execution_count": 69,
   "id": "c42379a7-ad0e-48fb-b42f-d98490e553fc",
   "metadata": {},
   "outputs": [],
   "source": [
    "#Multi-shot prompting at SYSTEM PROMPT\n",
    "\n",
    "link_system_prompt = \"You are provided with a list of links found on a webpage. \\\n",
    "You are able to decide which of the links would be most relevant to include in a brochure about the company or event the user request\"\n",
    "link_system_prompt += \"Examples of relevant information: About, News, Career, Upcoming events dates, locations\"\n",
    "\n",
    "link_system_prompt += \"\"\"respond in JSON as in this example:\n",
    "\n",
    "{\n",
    "    \"links\": [\n",
    "        {\"type\": \"Chicago 26.2\", \"url\": \"https://full.url/goes/here/event/chicago-262\"},\n",
    "        {\"type\": \"running clubs\", \"url\": \"https://full.url/chicago/running-clubs\"}\n",
    "    ]\n",
    "}\n",
    "\n",
    "\"\"\"\n",
    "\n",
    "link_system_prompt+=\"You should respond in JSON as in this example:\"\n",
    "link_system_prompt+=\"\"\"\n",
    "{\n",
    "    \"links\":[\n",
    "        {\"type\": \"about page\", \"url\": \"https://full.url/goes/here/about\"},\n",
    "        {\"type\": \"careers page\": \"url\": \"https://another.full.url/careers\"}\n",
    "    ]\n",
    "}\n",
    "\"\"\"\n",
    "\n",
    "\n",
    "\n",
    "link_system_prompt += \"\"\" You should filter out all social media links. For instance: \n",
    "{\n",
    "    \"links\": [\n",
    "          {url\": \"https://www.instagram.com/rest of url\"}\n",
    "    ]\n",
    "}\n",
    "\n",
    "\"\"\"\n"
   ]
  },
  {
   "cell_type": "code",
   "execution_count": 54,
   "id": "3c8381a8-3d1f-4bfb-8822-8e8d680e737a",
   "metadata": {},
   "outputs": [],
   "source": [
    "#building USER PROMPT\n",
    "\n",
    "def get_links_user_prompt(website):\n",
    "    user_prompt = f\"Here is the list of links on the website of {website.url} - \"\n",
    "    user_prompt += \"please decide which of these are relevant web links for the brochure, respond with the full https URL in JSON format. \\\n",
    "Do not include Terms of Service, Advertise, Marketing, Privacy, Social Media, email links.\\n\"\n",
    "    user_prompt += \"Links (some might be relative links):\\n\"\n",
    "    user_prompt += \"\\n\".join(website.links)\n",
    "    return user_prompt"
   ]
  },
  {
   "cell_type": "markdown",
   "id": "e0695d4c-b5b2-4b46-ad79-25fce4ec849e",
   "metadata": {},
   "source": [
    "### Use LLM for the links selection\n",
    "Here is the heavy weight of the LLM. We do not have to code to exclude link for any website"
   ]
  },
  {
   "cell_type": "code",
   "execution_count": 70,
   "id": "199bb5d5-c77c-4967-bc69-6f7d491d7ebd",
   "metadata": {},
   "outputs": [],
   "source": [
    "def get_links(url):\n",
    "    website = Website(url)\n",
    "    #using OPENAI\n",
    "    response = openai.chat.completions.create(\n",
    "        model=MODEL,\n",
    "        messages=[{\"role\":\"system\",\"content\":link_system_prompt},\n",
    "                  {\"role\":\"user\",\"content\":get_links_user_prompt(website)}\n",
    "                 ],\n",
    "        response_format={\"type\":\"json_object\"}\n",
    "    )\n",
    "\n",
    "    result = response.choices[0].message.content\n",
    "    return json.loads(result)    "
   ]
  },
  {
   "cell_type": "markdown",
   "id": "8359bcb5-8ad3-487e-b25a-f0f2b6136003",
   "metadata": {},
   "source": [
    "## Second step: make the brochure!\n",
    "Assemble all the details into another prompt to GPT4-o\n"
   ]
  },
  {
   "cell_type": "code",
   "execution_count": 71,
   "id": "627c1f8a-975a-4705-a40a-b371d2f1e20d",
   "metadata": {},
   "outputs": [],
   "source": [
    "def get_all_details(url):\n",
    "    result = \"Landing page:\\n\"\n",
    "    result+= Website(url).get_contents() #return content of the link in text\n",
    "    links = get_links(url)\n",
    "\n",
    "    for link in links[\"links\"]:\n",
    "        #if the model does not reply in JSON format in Dictionary with TYPE and URL this will crash!!!\n",
    "        result += f\"\\n\\n{link['type']}\\n\"\n",
    "        result += Website(link[\"url\"]).get_contents()\n",
    "    return result\n",
    "        "
   ]
  },
  {
   "cell_type": "code",
   "execution_count": 72,
   "id": "bf6e8a9b-e421-4573-95d8-c86f1ff94b7c",
   "metadata": {},
   "outputs": [],
   "source": [
    "system_prompt = \"You are an assistant that analyzes the contents of several relevant pages from a event website \\\n",
    "and creates a short brochure about the upcoming events. Respond in markdown.\\\n",
    "\""
   ]
  },
  {
   "cell_type": "code",
   "execution_count": 73,
   "id": "7af3e035-40f9-4adf-ac4b-9d567fc68192",
   "metadata": {},
   "outputs": [],
   "source": [
    "def get_brochure_user_prompt(company_name, url):\n",
    "    user_prompt = f\"You are looking at a website called: {company_name}\\n\"\n",
    "    user_prompt += f\"Here are the contents of its main page and other relevant pages; use this information to build a short brochure including about, news, upcoming events. Respond  in markdown.\\n\"\n",
    "    user_prompt += get_all_details(url)\n",
    "    user_prompt = user_prompt[:5_000] # Truncate if more than 5,000 characters\n",
    "    return user_prompt"
   ]
  },
  {
   "cell_type": "code",
   "execution_count": 74,
   "id": "1733a0e0-832b-4b88-930c-277cec70635b",
   "metadata": {},
   "outputs": [],
   "source": [
    "def create_brochure(company_name,url):\n",
    "    response = openai.chat.completions.create(\n",
    "        model=MODEL,\n",
    "        messages=[\n",
    "            {\"role\":\"system\",\"content\":system_prompt},\n",
    "            {\"role\":\"user\",\"content\":get_brochure_user_prompt(company_name,url)}\n",
    "        ]\n",
    "    )\n",
    "    result = response.choices[0].message.content\n",
    "    display(Markdown(result))"
   ]
  },
  {
   "cell_type": "code",
   "execution_count": 76,
   "id": "7566612c-8a5b-485b-83bd-425ede51c95f",
   "metadata": {},
   "outputs": [],
   "source": [
    "#create_brochure(\"Kratos Sports\",\"https://www.kratossportsve.com\")"
   ]
  },
  {
   "cell_type": "code",
   "execution_count": null,
   "id": "36ffe17f-543a-48bc-ab11-181b4910a95f",
   "metadata": {},
   "outputs": [],
   "source": []
  }
 ],
 "metadata": {
  "kernelspec": {
   "display_name": "Python 3 (ipykernel)",
   "language": "python",
   "name": "python3"
  },
  "language_info": {
   "codemirror_mode": {
    "name": "ipython",
    "version": 3
   },
   "file_extension": ".py",
   "mimetype": "text/x-python",
   "name": "python",
   "nbconvert_exporter": "python",
   "pygments_lexer": "ipython3",
   "version": "3.11.11"
  }
 },
 "nbformat": 4,
 "nbformat_minor": 5
}
