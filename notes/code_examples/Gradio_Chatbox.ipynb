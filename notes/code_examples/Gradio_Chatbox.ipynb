{
 "cells": [
  {
   "cell_type": "markdown",
   "id": "a1aa03ea-b218-4245-a414-8ec6342d8dcb",
   "metadata": {},
   "source": [
    "### Creating a simple Chatbox"
   ]
  },
  {
   "cell_type": "code",
   "execution_count": 2,
   "id": "4b5fb00c-8e0e-4b42-b005-427f54c84f20",
   "metadata": {},
   "outputs": [],
   "source": [
    "import os \n",
    "from dotenv import load_dotenv\n",
    "from openai import OpenAI\n",
    "import gradio as gr\n",
    "import anthropic"
   ]
  },
  {
   "cell_type": "code",
   "execution_count": 3,
   "id": "d00d5b0c-7f0b-433a-990e-5cdb172f5313",
   "metadata": {},
   "outputs": [],
   "source": [
    "#load environment \n",
    "load_dotenv()\n",
    "\n",
    "openai_api_key = os.getenv('OPENAI_API_KEY')\n",
    "anthropic_api_key = os.getenv('ANTHROPIC_API_KEY')\n",
    "google_api_key = os.getenv('GOOGLE_API_KEY')"
   ]
  },
  {
   "cell_type": "code",
   "execution_count": 4,
   "id": "016e656e-1eb2-4482-948e-1417798902ef",
   "metadata": {},
   "outputs": [],
   "source": [
    "#inizializin models\n",
    "openai = OpenAI()\n",
    "openai_model=\"gpt-4o-mini\"\n"
   ]
  },
  {
   "cell_type": "code",
   "execution_count": 5,
   "id": "643c6d84-d669-47ba-8064-f7497266f6f8",
   "metadata": {},
   "outputs": [],
   "source": [
    "#system prompt\n",
    "system_prompt = '''\n",
    "You are a coder tutor.Your mission is to help beginners when face a challenge, solve the bug and explain the issues or concepts. Be explanatory/\n",
    "\n",
    "Examples of Expected Behavior:\n",
    "Debug code error:\n",
    "\n",
    "User: This is my code, and this is the error, could you please help me to debug?\n",
    "Assitant:\n",
    "The error refers to... \n",
    "This is how can be solved... \n",
    "Here is the explanation of the changes\n",
    "'''"
   ]
  },
  {
   "cell_type": "markdown",
   "id": "c4da615f-502c-4793-97a4-d122c3615879",
   "metadata": {},
   "source": [
    "### Useful GRADIO interface\n",
    "We just need a function Chat + the message \n"
   ]
  },
  {
   "cell_type": "code",
   "execution_count": 9,
   "id": "758a4aa4-d3b9-4286-916f-c8cd4737de4c",
   "metadata": {},
   "outputs": [],
   "source": [
    "def chat(message, history):\n",
    "    messages = [{\"role\":\"system\",\"content\":system_prompt},{\"role\":\"user\",\"content\":message}]\n",
    "\n",
    "    #if you want to recreate the stream option instead of wait to get all response in one shot\n",
    "    stream= openai.chat.completions.create(messages=messages, model= openai_model, stream= True)\n",
    "\n",
    "    result =''\n",
    "    for chunk in stream:\n",
    "        result+= chunk.choices[0].delta.content\n",
    "        yield result "
   ]
  },
  {
   "cell_type": "code",
   "execution_count": 10,
   "id": "353dcb16-7306-4f71-af0f-0b79b427425b",
   "metadata": {},
   "outputs": [
    {
     "name": "stdout",
     "output_type": "stream",
     "text": [
      "* Running on local URL:  http://127.0.0.1:7865\n",
      "\n",
      "To create a public link, set `share=True` in `launch()`.\n"
     ]
    },
    {
     "data": {
      "text/html": [
       "<div><iframe src=\"http://127.0.0.1:7865/\" width=\"100%\" height=\"500\" allow=\"autoplay; camera; microphone; clipboard-read; clipboard-write;\" frameborder=\"0\" allowfullscreen></iframe></div>"
      ],
      "text/plain": [
       "<IPython.core.display.HTML object>"
      ]
     },
     "metadata": {},
     "output_type": "display_data"
    },
    {
     "data": {
      "text/plain": []
     },
     "execution_count": 10,
     "metadata": {},
     "output_type": "execute_result"
    },
    {
     "name": "stderr",
     "output_type": "stream",
     "text": [
      "Traceback (most recent call last):\n",
      "  File \"C:\\Users\\Luis\\anaconda3\\envs\\llms\\Lib\\site-packages\\gradio\\queueing.py\", line 715, in process_events\n",
      "    response = await route_utils.call_process_api(\n",
      "               ^^^^^^^^^^^^^^^^^^^^^^^^^^^^^^^^^^^\n",
      "  File \"C:\\Users\\Luis\\anaconda3\\envs\\llms\\Lib\\site-packages\\gradio\\route_utils.py\", line 322, in call_process_api\n",
      "    output = await app.get_blocks().process_api(\n",
      "             ^^^^^^^^^^^^^^^^^^^^^^^^^^^^^^^^^^^\n",
      "  File \"C:\\Users\\Luis\\anaconda3\\envs\\llms\\Lib\\site-packages\\gradio\\blocks.py\", line 2088, in process_api\n",
      "    result = await self.call_function(\n",
      "             ^^^^^^^^^^^^^^^^^^^^^^^^^\n",
      "  File \"C:\\Users\\Luis\\anaconda3\\envs\\llms\\Lib\\site-packages\\gradio\\blocks.py\", line 1647, in call_function\n",
      "    prediction = await utils.async_iteration(iterator)\n",
      "                 ^^^^^^^^^^^^^^^^^^^^^^^^^^^^^^^^^^^^^\n",
      "  File \"C:\\Users\\Luis\\anaconda3\\envs\\llms\\Lib\\site-packages\\gradio\\utils.py\", line 728, in async_iteration\n",
      "    return await anext(iterator)\n",
      "           ^^^^^^^^^^^^^^^^^^^^^\n",
      "  File \"C:\\Users\\Luis\\anaconda3\\envs\\llms\\Lib\\site-packages\\gradio\\utils.py\", line 833, in asyncgen_wrapper\n",
      "    response = await iterator.__anext__()\n",
      "               ^^^^^^^^^^^^^^^^^^^^^^^^^^\n",
      "  File \"C:\\Users\\Luis\\anaconda3\\envs\\llms\\Lib\\site-packages\\gradio\\chat_interface.py\", line 910, in _stream_fn\n",
      "    async for response in generator:\n",
      "  File \"C:\\Users\\Luis\\anaconda3\\envs\\llms\\Lib\\site-packages\\gradio\\utils.py\", line 722, in __anext__\n",
      "    return await anyio.to_thread.run_sync(\n",
      "           ^^^^^^^^^^^^^^^^^^^^^^^^^^^^^^^\n",
      "  File \"C:\\Users\\Luis\\anaconda3\\envs\\llms\\Lib\\site-packages\\anyio\\to_thread.py\", line 56, in run_sync\n",
      "    return await get_async_backend().run_sync_in_worker_thread(\n",
      "           ^^^^^^^^^^^^^^^^^^^^^^^^^^^^^^^^^^^^^^^^^^^^^^^^^^^^\n",
      "  File \"C:\\Users\\Luis\\anaconda3\\envs\\llms\\Lib\\site-packages\\anyio\\_backends\\_asyncio.py\", line 2505, in run_sync_in_worker_thread\n",
      "    return await future\n",
      "           ^^^^^^^^^^^^\n",
      "  File \"C:\\Users\\Luis\\anaconda3\\envs\\llms\\Lib\\site-packages\\anyio\\_backends\\_asyncio.py\", line 1005, in run\n",
      "    result = context.run(func, *args)\n",
      "             ^^^^^^^^^^^^^^^^^^^^^^^^\n",
      "  File \"C:\\Users\\Luis\\anaconda3\\envs\\llms\\Lib\\site-packages\\gradio\\utils.py\", line 705, in run_sync_iterator_async\n",
      "    return next(iterator)\n",
      "           ^^^^^^^^^^^^^^\n",
      "  File \"C:\\Users\\Luis\\AppData\\Local\\Temp\\ipykernel_21112\\3404340544.py\", line 9, in chat\n",
      "    result+= chunk.choices[0].delta.content\n",
      "TypeError: can only concatenate str (not \"NoneType\") to str\n"
     ]
    }
   ],
   "source": [
    "#using Gradio \n",
    "gr.ChatInterface(fn=chat,type=\"messages\").launch(inbrowser=True)"
   ]
  },
  {
   "cell_type": "code",
   "execution_count": null,
   "id": "ae29bba8-f7ee-40c0-a8c5-bef2b1b64bef",
   "metadata": {},
   "outputs": [],
   "source": []
  }
 ],
 "metadata": {
  "kernelspec": {
   "display_name": "Python 3 (ipykernel)",
   "language": "python",
   "name": "python3"
  },
  "language_info": {
   "codemirror_mode": {
    "name": "ipython",
    "version": 3
   },
   "file_extension": ".py",
   "mimetype": "text/x-python",
   "name": "python",
   "nbconvert_exporter": "python",
   "pygments_lexer": "ipython3",
   "version": "3.11.11"
  }
 },
 "nbformat": 4,
 "nbformat_minor": 5
}
