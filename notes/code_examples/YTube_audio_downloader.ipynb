{
 "cells": [
  {
   "cell_type": "code",
   "execution_count": 2,
   "id": "b176dc7f-0489-4c3d-b91e-f1160e7d170a",
   "metadata": {},
   "outputs": [
    {
     "name": "stdout",
     "output_type": "stream",
     "text": [
      "Collecting yt-dlp\n",
      "  Downloading yt_dlp-2025.1.26-py3-none-any.whl.metadata (172 kB)\n",
      "Downloading yt_dlp-2025.1.26-py3-none-any.whl (3.2 MB)\n",
      "   ---------------------------------------- 0.0/3.2 MB ? eta -:--:--\n",
      "   ---------------------------------------- 3.2/3.2 MB 17.0 MB/s eta 0:00:00\n",
      "Installing collected packages: yt-dlp\n",
      "Successfully installed yt-dlp-2025.1.26\n"
     ]
    }
   ],
   "source": [
    "!pip install yt-dlp"
   ]
  },
  {
   "cell_type": "code",
   "execution_count": 3,
   "id": "f83e563d-3e89-41c4-9dcb-ea85375ed0a8",
   "metadata": {},
   "outputs": [],
   "source": [
    "import yt_dlp\n",
    "\n",
    "def download_video(url):\n",
    "    ydl_opts = {\n",
    "        'format': 'bestaudio/best',\n",
    "        'postprocessors': [{\n",
    "            'key': 'FFmpegExtractAudio',\n",
    "            'preferredcodec': 'mp3',\n",
    "        }]\n",
    "    }\n",
    "    with yt_dlp.YoutubeDL(ydl_opts) as ydl:\n",
    "        ydl.download([url])"
   ]
  },
  {
   "cell_type": "code",
   "execution_count": 6,
   "id": "4b6afa91-5f0e-4624-a5a1-b55af1a349e0",
   "metadata": {},
   "outputs": [
    {
     "name": "stdout",
     "output_type": "stream",
     "text": [
      "[youtube] Extracting URL: https://www.youtube.com/watch?v=JVujOrYpMEs\n",
      "[youtube] JVujOrYpMEs: Downloading webpage\n",
      "[youtube] JVujOrYpMEs: Downloading tv client config\n",
      "[youtube] JVujOrYpMEs: Downloading player 9c6dfc4a\n",
      "[youtube] JVujOrYpMEs: Downloading tv player API JSON\n",
      "[youtube] JVujOrYpMEs: Downloading ios player API JSON\n",
      "[youtube] JVujOrYpMEs: Downloading m3u8 information\n",
      "[info] JVujOrYpMEs: Downloading 1 format(s): 251\n",
      "[download] Destination: Desmonto la MANIPULACIÓN del Atlético contra el Real Madrid [JVujOrYpMEs].webm\n",
      "[download] 100% of    3.18MiB in 00:00:00 at 9.43MiB/s   \n",
      "[ExtractAudio] Destination: Desmonto la MANIPULACIÓN del Atlético contra el Real Madrid [JVujOrYpMEs].mp3\n",
      "Deleting original file Desmonto la MANIPULACIÓN del Atlético contra el Real Madrid [JVujOrYpMEs].webm (pass -k to keep)\n"
     ]
    }
   ],
   "source": [
    "test = download_video(\"https://www.youtube.com/watch?v=JVujOrYpMEs\")"
   ]
  },
  {
   "cell_type": "code",
   "execution_count": 7,
   "id": "7f50420e-36eb-4135-95d0-8b476ba92cb3",
   "metadata": {},
   "outputs": [],
   "source": [
    "test\n"
   ]
  },
  {
   "cell_type": "code",
   "execution_count": null,
   "id": "648acf93-da3f-4735-8bd0-69b1b375003d",
   "metadata": {},
   "outputs": [],
   "source": []
  }
 ],
 "metadata": {
  "kernelspec": {
   "display_name": "Python 3 (ipykernel)",
   "language": "python",
   "name": "python3"
  },
  "language_info": {
   "codemirror_mode": {
    "name": "ipython",
    "version": 3
   },
   "file_extension": ".py",
   "mimetype": "text/x-python",
   "name": "python",
   "nbconvert_exporter": "python",
   "pygments_lexer": "ipython3",
   "version": "3.11.11"
  }
 },
 "nbformat": 4,
 "nbformat_minor": 5
}
